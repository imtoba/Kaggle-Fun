{
  "nbformat": 4,
  "nbformat_minor": 0,
  "metadata": {
    "colab": {
      "name": "Cats/Dogs_ResNet50.ipynb",
      "version": "0.3.2",
      "views": {},
      "default_view": {},
      "provenance": [
        {
          "file_id": "1q7N-HxGzqtsaYd3KeYpEWDM9uFxWXhtw",
          "timestamp": 1530266785823
        }
      ],
      "collapsed_sections": []
    },
    "kernelspec": {
      "name": "python3",
      "display_name": "Python 3"
    },
    "accelerator": "GPU"
  },
  "cells": [
    {
      "metadata": {
        "id": "j4l3P2cra2NC",
        "colab_type": "code",
        "colab": {
          "autoexec": {
            "startup": false,
            "wait_interval": 0
          },
          "base_uri": "https://localhost:8080/",
          "height": 34
        },
        "outputId": "eb3d8238-e1b5-45c1-9e03-5a1f71f5927e",
        "executionInfo": {
          "status": "ok",
          "timestamp": 1530206586104,
          "user_tz": -330,
          "elapsed": 2662,
          "user": {
            "displayName": "Iresh Mishra",
            "photoUrl": "https://lh3.googleusercontent.com/a/default-user=s128",
            "userId": "113084233984419493374"
          }
        }
      },
      "cell_type": "code",
      "source": [
        "!ls"
      ],
      "execution_count": 0,
      "outputs": [
        {
          "output_type": "stream",
          "text": [
            "data  datalab  dogscats.zip\r\n"
          ],
          "name": "stdout"
        }
      ]
    },
    {
      "metadata": {
        "id": "bd85Lzpbcq05",
        "colab_type": "code",
        "colab": {
          "autoexec": {
            "startup": false,
            "wait_interval": 0
          },
          "base_uri": "https://localhost:8080/",
          "height": 34
        },
        "outputId": "e27838af-7cfe-434f-8051-e781ec105c1e",
        "executionInfo": {
          "status": "ok",
          "timestamp": 1530204651654,
          "user_tz": -330,
          "elapsed": 6911,
          "user": {
            "displayName": "Iresh Mishra",
            "photoUrl": "https://lh3.googleusercontent.com/a/default-user=s128",
            "userId": "113084233984419493374"
          }
        }
      },
      "cell_type": "code",
      "source": [
        "!ls"
      ],
      "execution_count": 0,
      "outputs": [
        {
          "output_type": "stream",
          "text": [
            "data  datalab  dogscats.zip\r\n"
          ],
          "name": "stdout"
        }
      ]
    },
    {
      "metadata": {
        "id": "Ia_AqyM9enCT",
        "colab_type": "code",
        "colab": {
          "autoexec": {
            "startup": false,
            "wait_interval": 0
          }
        }
      },
      "cell_type": "code",
      "source": [
        "\n",
        "\n",
        "%reload_ext autoreload\n",
        "%autoreload 2\n",
        "%matplotlib inline\n",
        "\n"
      ],
      "execution_count": 0,
      "outputs": []
    },
    {
      "metadata": {
        "id": "porSPXz3e6Dy",
        "colab_type": "code",
        "colab": {
          "autoexec": {
            "startup": false,
            "wait_interval": 0
          }
        }
      },
      "cell_type": "code",
      "source": [
        "\n",
        "\n",
        "PATH = \"data/dogscats/\"\n",
        "sz=224 #image input size\n",
        "batch_size=64\n",
        "\n"
      ],
      "execution_count": 0,
      "outputs": []
    },
    {
      "metadata": {
        "id": "fcVj7Rbcfd86",
        "colab_type": "code",
        "colab": {
          "autoexec": {
            "startup": false,
            "wait_interval": 0
          }
        }
      },
      "cell_type": "code",
      "source": [
        "\n",
        "\n",
        "import numpy as np\n",
        "from keras.preprocessing.image import ImageDataGenerator\n",
        "from keras.preprocessing import image\n",
        "from keras.layers import Dropout, Flatten, Dense\n",
        "from keras.applications import ResNet50\n",
        "from keras.models import Model, Sequential\n",
        "from keras.layers import Dense, GlobalAveragePooling2D\n",
        "from keras import backend as K\n",
        "from keras.applications.resnet50 import preprocess_input\n",
        "\n"
      ],
      "execution_count": 0,
      "outputs": []
    },
    {
      "metadata": {
        "id": "FaHUhTVOfjpP",
        "colab_type": "code",
        "colab": {
          "autoexec": {
            "startup": false,
            "wait_interval": 0
          }
        }
      },
      "cell_type": "code",
      "source": [
        "train_data_dir = f'{PATH}train'\n",
        "validation_data_dir = f'{PATH}valid'"
      ],
      "execution_count": 0,
      "outputs": []
    },
    {
      "metadata": {
        "id": "2uUqG_iJfq6C",
        "colab_type": "code",
        "colab": {
          "autoexec": {
            "startup": false,
            "wait_interval": 0
          },
          "base_uri": "https://localhost:8080/",
          "height": 52
        },
        "outputId": "d8659277-b44d-43a3-accf-69bb6b31d450",
        "executionInfo": {
          "status": "ok",
          "timestamp": 1530204672024,
          "user_tz": -330,
          "elapsed": 3026,
          "user": {
            "displayName": "Iresh Mishra",
            "photoUrl": "https://lh3.googleusercontent.com/a/default-user=s128",
            "userId": "113084233984419493374"
          }
        }
      },
      "cell_type": "code",
      "source": [
        "\n",
        "\n",
        "train_datagen = ImageDataGenerator(preprocessing_function=preprocess_input,\n",
        "    shear_range=0.2, zoom_range=0.2, horizontal_flip=True)\n",
        "\n",
        "test_datagen = ImageDataGenerator(preprocessing_function=preprocess_input)\n",
        "\n",
        "train_generator = train_datagen.flow_from_directory(train_data_dir,\n",
        "    target_size=(sz, sz),\n",
        "    batch_size=batch_size, class_mode='binary')\n",
        "\n",
        "validation_generator = test_datagen.flow_from_directory(validation_data_dir,\n",
        "    shuffle=False,\n",
        "    target_size=(sz, sz),\n",
        "    batch_size=batch_size, class_mode='binary')\n",
        "\n"
      ],
      "execution_count": 0,
      "outputs": [
        {
          "output_type": "stream",
          "text": [
            "Found 23000 images belonging to 2 classes.\n",
            "Found 2000 images belonging to 2 classes.\n"
          ],
          "name": "stdout"
        }
      ]
    },
    {
      "metadata": {
        "id": "GU98W6FBf_uJ",
        "colab_type": "code",
        "colab": {
          "autoexec": {
            "startup": false,
            "wait_interval": 0
          },
          "base_uri": "https://localhost:8080/",
          "height": 52
        },
        "outputId": "a86f510a-dc74-4c1c-d325-98fb10b2f84e",
        "executionInfo": {
          "status": "ok",
          "timestamp": 1530204692519,
          "user_tz": -330,
          "elapsed": 20386,
          "user": {
            "displayName": "Iresh Mishra",
            "photoUrl": "https://lh3.googleusercontent.com/a/default-user=s128",
            "userId": "113084233984419493374"
          }
        }
      },
      "cell_type": "code",
      "source": [
        "base_model=ResNet50(weights='imagenet',include_top=False)"
      ],
      "execution_count": 0,
      "outputs": [
        {
          "output_type": "stream",
          "text": [
            "Downloading data from https://github.com/fchollet/deep-learning-models/releases/download/v0.2/resnet50_weights_tf_dim_ordering_tf_kernels_notop.h5\n",
            "94658560/94653016 [==============================] - 8s 0us/step\n"
          ],
          "name": "stdout"
        }
      ]
    },
    {
      "metadata": {
        "id": "o5RU0xsZgU2I",
        "colab_type": "code",
        "colab": {
          "autoexec": {
            "startup": false,
            "wait_interval": 0
          }
        }
      },
      "cell_type": "code",
      "source": [
        "x=base_model.output\n",
        "x=GlobalAveragePooling2D()(x)\n",
        "x=Dense(1024,activation='relu')(x)\n",
        "predictions=Dense(1,activation='sigmoid')(x)"
      ],
      "execution_count": 0,
      "outputs": []
    },
    {
      "metadata": {
        "id": "MjLzmggShZKb",
        "colab_type": "code",
        "colab": {
          "autoexec": {
            "startup": false,
            "wait_interval": 0
          }
        }
      },
      "cell_type": "code",
      "source": [
        "model=Model(inputs=base_model.input,outputs=predictions)\n",
        "for layer in base_model.layers: layer.trainable = False\n",
        "model.compile(optimizer='rmsprop', loss='binary_crossentropy', metrics=['accuracy'])"
      ],
      "execution_count": 0,
      "outputs": []
    },
    {
      "metadata": {
        "id": "EL9zLu62j7rg",
        "colab_type": "code",
        "colab": {
          "autoexec": {
            "startup": false,
            "wait_interval": 0
          },
          "base_uri": "https://localhost:8080/",
          "height": 193
        },
        "outputId": "0790f8e1-dbac-4159-e3d9-bb5102ca0d53",
        "executionInfo": {
          "status": "ok",
          "timestamp": 1530207732336,
          "user_tz": -330,
          "elapsed": 1034017,
          "user": {
            "displayName": "Iresh Mishra",
            "photoUrl": "https://lh3.googleusercontent.com/a/default-user=s128",
            "userId": "113084233984419493374"
          }
        }
      },
      "cell_type": "code",
      "source": [
        "%%time\n",
        "model.fit_generator(train_generator, train_generator.n // batch_size, epochs=3, workers=4,\n",
        "        validation_data=validation_generator, validation_steps=validation_generator.n // batch_size)"
      ],
      "execution_count": 0,
      "outputs": [
        {
          "output_type": "stream",
          "text": [
            "Epoch 1/3\n",
            "359/359 [==============================] - 346s 965ms/step - loss: 0.0702 - acc: 0.9773 - val_loss: 0.0656 - val_acc: 0.9859\n",
            "Epoch 2/3\n",
            "297/359 [=======================>......] - ETA: 55s - loss: 0.0565 - acc: 0.9814"
          ],
          "name": "stdout"
        },
        {
          "output_type": "stream",
          "text": [
            "359/359 [==============================] - 345s 960ms/step - loss: 0.0569 - acc: 0.9816 - val_loss: 0.0989 - val_acc: 0.9773\n",
            "Epoch 3/3\n",
            "359/359 [==============================] - 341s 950ms/step - loss: 0.0510 - acc: 0.9836 - val_loss: 0.0651 - val_acc: 0.9874\n",
            "CPU times: user 31min 44s, sys: 1min 16s, total: 33min\n",
            "Wall time: 17min 12s\n"
          ],
          "name": "stdout"
        },
        {
          "output_type": "execute_result",
          "data": {
            "text/plain": [
              "<keras.callbacks.History at 0x7f365be584e0>"
            ]
          },
          "metadata": {
            "tags": []
          },
          "execution_count": 56
        }
      ]
    }
  ]
} 
